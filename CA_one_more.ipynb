{
  "cells": [
    {
      "cell_type": "code",
      "execution_count": 1,
      "metadata": {
        "id": "QyfV6l552VUE"
      },
      "outputs": [],
      "source": [
        "url=\"/content/hepatitis.csv\""
      ]
    },
    {
      "cell_type": "code",
      "execution_count": 2,
      "metadata": {
        "id": "z1smaw_p3Km6"
      },
      "outputs": [],
      "source": [
        "import pandas as pd"
      ]
    },
    {
      "cell_type": "code",
      "execution_count": 3,
      "metadata": {
        "id": "SeuRcAqRQGk-"
      },
      "outputs": [],
      "source": [
        "import numpy as np"
      ]
    },
    {
      "cell_type": "code",
      "execution_count": 4,
      "metadata": {
        "id": "Cx-D_gRR3ftH"
      },
      "outputs": [],
      "source": [
        "dataset=pd.read_csv(url)"
      ]
    },
    {
      "cell_type": "code",
      "execution_count": 5,
      "metadata": {
        "id": "eig7yPaR3m7C"
      },
      "outputs": [],
      "source": [
        "dataset = dataset.drop(['protime'], axis=1)"
      ]
    },
    {
      "cell_type": "code",
      "execution_count": null,
      "metadata": {
        "id": "X1jKLmVz3vYa"
      },
      "outputs": [],
      "source": [
        "dataset=dataset.dropna()\n",
        "dataset.target"
      ]
    },
    {
      "cell_type": "code",
      "execution_count": null,
      "metadata": {
        "id": "FV0LHOmt31Sw"
      },
      "outputs": [],
      "source": [
        "dataset.describe"
      ]
    },
    {
      "cell_type": "code",
      "execution_count": null,
      "metadata": {
        "id": "qo3c8GL739Fj"
      },
      "outputs": [],
      "source": [
        "dataset.isnull().sum()"
      ]
    },
    {
      "cell_type": "markdown",
      "metadata": {
        "id": "mfUg16y84FU3"
      },
      "source": [
        "ALL NULL VALUES ARE REMOVED FROM DATASET"
      ]
    },
    {
      "cell_type": "markdown",
      "metadata": {
        "id": "073O3rtT4Nho"
      },
      "source": [
        "FOR TRAINING AND TESTING DATASET"
      ]
    },
    {
      "cell_type": "code",
      "execution_count": 9,
      "metadata": {
        "id": "aYbBOVX04KU7"
      },
      "outputs": [],
      "source": [
        "x = dataset.iloc[:,[6,7,8,9,10,13,18]] #For Learning\n",
        "y = dataset.iloc[:,1] #For Result"
      ]
    },
    {
      "cell_type": "code",
      "execution_count": null,
      "metadata": {
        "id": "SFuFnI_AFByl"
      },
      "outputs": [],
      "source": [
        "x.describe"
      ]
    },
    {
      "cell_type": "code",
      "execution_count": null,
      "metadata": {
        "id": "CUljK3Tw5Epv"
      },
      "outputs": [],
      "source": [
        "print(y.describe)"
      ]
    },
    {
      "cell_type": "code",
      "execution_count": 10,
      "metadata": {
        "id": "5pYuQZr45SMb"
      },
      "outputs": [],
      "source": [
        "from sklearn.model_selection import train_test_split"
      ]
    },
    {
      "cell_type": "code",
      "execution_count": 28,
      "metadata": {
        "id": "bsk5qkjY5bn3"
      },
      "outputs": [],
      "source": [
        "x_train, x_test, y_train, y_test = train_test_split(x,y,test_size=0.4)"
      ]
    },
    {
      "cell_type": "markdown",
      "metadata": {
        "id": "J1WBcWb05qD0"
      },
      "source": [
        "Creating Model"
      ]
    },
    {
      "cell_type": "code",
      "execution_count": 29,
      "metadata": {
        "id": "pc7tf92o5nUl"
      },
      "outputs": [],
      "source": [
        "# from sklearn.tree import DecisionTreeClassifier\n",
        "# Model_DT = DecisionTreeClassifier(criterion='entropy')\n",
        "from sklearn import svm\n",
        "model_svm=svm.SVC(gamma='auto')"
      ]
    },
    {
      "cell_type": "markdown",
      "metadata": {
        "id": "aayA_kkz6OCG"
      },
      "source": [
        "Fitting of Model"
      ]
    },
    {
      "cell_type": "code",
      "execution_count": null,
      "metadata": {
        "id": "ngVTXcdtBBgQ"
      },
      "outputs": [],
      "source": [
        "print(x_train.columns)"
      ]
    },
    {
      "cell_type": "code",
      "execution_count": 30,
      "metadata": {
        "colab": {
          "base_uri": "https://localhost:8080/"
        },
        "id": "saWWEETq6DsN",
        "outputId": "efabf556-2084-443d-f9b3-24911a54aef7"
      },
      "outputs": [
        {
          "data": {
            "text/plain": [
              "SVC(gamma='auto')"
            ]
          },
          "execution_count": 30,
          "metadata": {},
          "output_type": "execute_result"
        }
      ],
      "source": [
        "# ypred = Model_DT.fit(x_train, y_train)\n",
        "ypred = model_svm.fit(x_train, y_train)\n",
        "ypred"
      ]
    },
    {
      "cell_type": "markdown",
      "metadata": {
        "id": "X1phtiel6oeu"
      },
      "source": [
        "Predicting the Result"
      ]
    },
    {
      "cell_type": "code",
      "execution_count": 31,
      "metadata": {
        "id": "sV2DnT6U6Rua"
      },
      "outputs": [],
      "source": [
        "# y_pred = Model_DT.predict(x_test)\n",
        "y_pred = model_svm.predict(x_test)\n",
        "# y_pred"
      ]
    },
    {
      "cell_type": "code",
      "execution_count": 32,
      "metadata": {
        "colab": {
          "base_uri": "https://localhost:8080/"
        },
        "id": "UoXq2EZk7Ym5",
        "outputId": "ae216260-a108-497d-fda1-5ee0698bd141"
      },
      "outputs": [
        {
          "name": "stdout",
          "output_type": "stream",
          "text": [
            "[2, 2, 2, 2, 2, 2, 2, 1, 2, 2, 2, 2, 2, 2, 1, 2, 2, 2, 2, 2, 2, 2, 2, 2, 2, 2, 2, 2, 2, 2, 2, 2, 1, 2, 1, 2, 2, 1, 2, 2, 2, 2, 2, 2, 1]\n",
            "[2, 1, 2, 2, 2, 2, 2, 2, 2, 2, 2, 2, 2, 2, 1, 2, 2, 2, 2, 2, 2, 2, 2, 2, 2, 2, 2, 2, 2, 2, 2, 2, 2, 1, 1, 2, 2, 2, 2, 2, 2, 2, 2, 2, 2]\n"
          ]
        }
      ],
      "source": [
        "print(list(y_test))\n",
        "print(list(y_pred))"
      ]
    },
    {
      "cell_type": "code",
      "execution_count": null,
      "metadata": {
        "id": "2V4wxPg370TI"
      },
      "outputs": [],
      "source": [
        "result = pd.DataFrame({'Y_True':y_test,'Y_Pred':y_pred})\n",
        "print(result)"
      ]
    },
    {
      "cell_type": "code",
      "execution_count": 34,
      "metadata": {
        "id": "93nF4Yyf8Yo2"
      },
      "outputs": [],
      "source": [
        "from sklearn.metrics import confusion_matrix"
      ]
    },
    {
      "cell_type": "code",
      "execution_count": 35,
      "metadata": {
        "colab": {
          "base_uri": "https://localhost:8080/"
        },
        "id": "eVyYFNFB8hY6",
        "outputId": "3857c155-ee41-4a3b-a886-0fa641be3151"
      },
      "outputs": [
        {
          "name": "stdout",
          "output_type": "stream",
          "text": [
            "[[ 2  4]\n",
            " [ 2 37]]\n"
          ]
        }
      ],
      "source": [
        "print(confusion_matrix(y_test,y_pred))"
      ]
    },
    {
      "cell_type": "code",
      "execution_count": 36,
      "metadata": {
        "id": "ByOrMLyu8ui5"
      },
      "outputs": [],
      "source": [
        "from sklearn.metrics import classification_report"
      ]
    },
    {
      "cell_type": "code",
      "execution_count": null,
      "metadata": {
        "id": "PWjRmU1V839l"
      },
      "outputs": [],
      "source": [
        "print(classification_report(y_test,y_pred))"
      ]
    },
    {
      "cell_type": "code",
      "execution_count": null,
      "metadata": {},
      "outputs": [],
      "source": [
        "import pickle"
      ]
    },
    {
      "cell_type": "code",
      "execution_count": null,
      "metadata": {},
      "outputs": [],
      "source": [
        "data = {\"model\":model_svm,\n",
        "'fatigue':dataset['fatigue'],\n",
        "'malaise':dataset['malaise'],\n",
        "'anorexia':dataset['anorexia'],\n",
        "'liverBig' : dataset['liverBig'],\n",
        "'liverFirm' : dataset['liverFirm'],\n",
        "'ascites' : dataset['ascites'],\n",
        "'albu' : dataset['albu']}\n",
        "with open('saved_steps.pkl','wb') as file:\n",
        "    pickle.dump(data,file)"
      ]
    },
    {
      "cell_type": "code",
      "execution_count": null,
      "metadata": {},
      "outputs": [],
      "source": [
        "with open('saved_steps.pkl','rb') as file:\n",
        "    data = pickle.load(file)\n",
        "model_svm = data[\"model\"]\n",
        "fatigue = data['fatigue']\n",
        "malaise = data['malaise']\n",
        "anorexia = data['anorexia']\n",
        "liverBig = data['liverBig']\n",
        "liverFirm = data['liverFirm']\n",
        "ascites = data['ascites']\n",
        "albu = data['albu']"
      ]
    },
    {
      "cell_type": "code",
      "execution_count": null,
      "metadata": {
        "id": "IYwsj44EKt0k"
      },
      "outputs": [],
      "source": [
        "x.columns"
      ]
    },
    {
      "cell_type": "code",
      "execution_count": 39,
      "metadata": {
        "colab": {
          "base_uri": "https://localhost:8080/"
        },
        "id": "FAz2TwMe-GV_",
        "outputId": "ee7e6e50-eaab-4225-f9dd-6f5a33a08917"
      },
      "outputs": [
        {
          "name": "stdout",
          "output_type": "stream",
          "text": [
            "Albu : 2\n",
            "Anorexia : 2\n",
            "Ascites : 2\n",
            "Fatigue : 2\n",
            "LiverBig: 2\n",
            "LiverFirm : 2\n",
            "Malaise : 2\n",
            "[2]\n"
          ]
        },
        {
          "name": "stderr",
          "output_type": "stream",
          "text": [
            "/usr/local/lib/python3.7/dist-packages/sklearn/base.py:451: UserWarning: X does not have valid feature names, but SVC was fitted with feature names\n",
            "  \"X does not have valid feature names, but\"\n"
          ]
        }
      ],
      "source": [
        "albu = int(input('Albu : '))\n",
        "anorexia = int(input('Anorexia : '))\n",
        "ascites = int(input('Ascites : '))\n",
        "fatigue = int(input('Fatigue : '))\n",
        "liverBig = int(input('LiverBig: '))\n",
        "liverFirm = int(input('LiverFirm : '))\n",
        "malaise = int(input('Malaise : '))\n",
        "#'fatigue', 'malaise', 'anorexia', 'liverBig', 'liverFirm', 'ascites','albu'\n",
        "# print(Model_DT.predict([[fatigue,malaise,anorexia,liverBig,liverFirm,ascites,albu]]))\n",
        "print(model_svm.predict([[fatigue,malaise,anorexia,liverBig,liverFirm,ascites,albu]]))"
      ]
    },
    {
      "cell_type": "code",
      "execution_count": null,
      "metadata": {
        "id": "GhOFABokM_-v"
      },
      "outputs": [],
      "source": [
        "# fatigue=np.array(['True','False'])\n",
        "# malaise=np.array(['True','False'])\n",
        "# anorexia=np.array(['True','False'])\n",
        "# liverBig=np.array(['False','True'])\n",
        "# liverFirm=np.array(['False','True'])\n",
        "# ascites=np.array(['False','True'])\n",
        "# albu=np.array(['True','False'])"
      ]
    },
    {
      "cell_type": "code",
      "execution_count": null,
      "metadata": {
        "id": "MNJwtB47Mu6T"
      },
      "outputs": [],
      "source": [
        "# data = {'fatigue':fatigue,'malaise':malaise,'anorexia':anorexia,'liverBig':liverBig,'liverFirm':liverFirm,'ascites':ascites,'albu':albu}"
      ]
    },
    {
      "cell_type": "code",
      "execution_count": null,
      "metadata": {
        "id": "9n8rgVXvN_cs"
      },
      "outputs": [],
      "source": [
        "# test_data = pd.DataFrame(data)"
      ]
    },
    {
      "cell_type": "code",
      "execution_count": null,
      "metadata": {
        "colab": {
          "base_uri": "https://localhost:8080/"
        },
        "id": "1NXorcR_O4E7",
        "outputId": "30c38e76-1d55-4f13-d24c-9a5b358922c8"
      },
      "outputs": [],
      "source": [
        "# print(test_data)"
      ]
    },
    {
      "cell_type": "code",
      "execution_count": null,
      "metadata": {
        "id": "zNP-sAIZPWel"
      },
      "outputs": [],
      "source": [
        "# test_data['fatigue1']=pd.Categorical(test_data['fatigue'])\n",
        "# test_data['fatigue1']=test_data.fatigue1.cat.codes\n",
        "\n",
        "# test_data['malaise1']=pd.Categorical(test_data['malaise'])\n",
        "# test_data['malaise1']=test_data.malaise1.cat.codes\n",
        "\n",
        "# test_data['anorexia1']=pd.Categorical(test_data['anorexia'])\n",
        "# test_data['anorexia1']=test_data.anorexia1.cat.codes\n",
        "\n",
        "# test_data['liverBig1']=pd.Categorical(test_data['liverBig'])\n",
        "# test_data['liverBig1']=test_data.liverBig1.cat.codes\n",
        "\n",
        "# test_data['liverFirm1']=pd.Categorical(test_data['liverFirm'])\n",
        "# test_data['liverFirm1']=test_data.liverFirm1.cat.codes\n",
        "\n",
        "# test_data['ascites1']=pd.Categorical(test_data['ascites'])\n",
        "# test_data['ascites1']=test_data.ascites1.cat.codes\n",
        "\n",
        "# test_data['albu1']=pd.Categorical(test_data['albu'])\n",
        "# test_data['albu1']=test_data.albu1.cat.codes"
      ]
    },
    {
      "cell_type": "code",
      "execution_count": null,
      "metadata": {
        "colab": {
          "base_uri": "https://localhost:8080/"
        },
        "id": "tTa5IC1DSWC_",
        "outputId": "adfb2208-7e5a-46b6-cdb5-2250cf697185"
      },
      "outputs": [],
      "source": [
        "# print(test_data)"
      ]
    }
  ],
  "metadata": {
    "colab": {
      "collapsed_sections": [],
      "name": "CA_one_more.ipynb",
      "provenance": []
    },
    "kernelspec": {
      "display_name": "Python 3",
      "name": "python3"
    },
    "language_info": {
      "codemirror_mode": {
        "name": "ipython",
        "version": 3
      },
      "file_extension": ".py",
      "mimetype": "text/x-python",
      "name": "python",
      "nbconvert_exporter": "python",
      "pygments_lexer": "ipython3",
      "version": "3.10.0"
    }
  },
  "nbformat": 4,
  "nbformat_minor": 0
}
